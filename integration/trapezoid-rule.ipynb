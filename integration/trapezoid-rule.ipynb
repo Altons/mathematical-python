{
 "cells": [
  {
   "cell_type": "markdown",
   "metadata": {},
   "source": [
    "# Trapezoid Rule"
   ]
  },
  {
   "cell_type": "code",
   "execution_count": 1,
   "metadata": {
    "collapsed": true
   },
   "outputs": [],
   "source": [
    "import numpy as np\n",
    "import matplotlib.pyplot as plt\n",
    "%matplotlib inline"
   ]
  },
  {
   "cell_type": "markdown",
   "metadata": {},
   "source": [
    "## Definition\n",
    "\n",
    "The definite integral of $f(x)$ is equal to the (net) area under the curve $y=f(x)$ over the interval $[a,b]$. Riemann sums approximate definite integrals by using sums of rectangles to approximate the area.\n",
    "\n",
    "The [trapezoid rule](https://en.wikipedia.org/wiki/Trapezoidal_rule) gives a better approximation of a definite integral by summing the areas of the trapezoids connecting the points\n",
    "\n",
    "$$\n",
    "(x_{i-1},0), (x_i,0), (x_{i-1},f(x_{i-1})), (x_i,f(x_i))\n",
    "$$\n",
    "\n",
    "for each subinterval $[x_{i-1},x_i]$ of a partition. Note that the area of each trapezoid is\n",
    "\n",
    "$$\n",
    "(x_i - x_{i-1}) f(x_{i-1}) + \\frac{1}{2}(x_i - x_{i-1}) (f(x_i) - f(x_{i-1})) = \\frac{1}{2}(f(x_i) + f(x_{i-1}))(x_i - x_{i-1})\n",
    "$$\n",
    "\n",
    "For example, we can use a single trapezoid to approximate:\n",
    "\n",
    "$$\n",
    "\\int_0^1 e^{-x^2} \\, dx\n",
    "$$"
   ]
  },
  {
   "cell_type": "code",
   "execution_count": 2,
   "metadata": {},
   "outputs": [
    {
     "data": {
      "image/png": "[encoded data removed]",
      "text/plain": [
       "<Figure size 432x288 with 1 Axes>"
      ]
     },
     "metadata": {},
     "output_type": "display_data"
    }
   ],
   "source": [
    "f = lambda x: np.exp(-x**2)\n",
    "x = np.linspace(-0.5,1.5,100)\n",
    "y = f(x)\n",
    "plt.plot(x,y)\n",
    "\n",
    "x0 = 0; x1 = 1;\n",
    "y0 = f(x0); y1 = f(x1);\n",
    "plt.fill_between([x0,x1],[y0,y1])\n",
    "\n",
    "plt.xlim([-0.5,1.5]); plt.ylim([0,1.5]);\n",
    "plt.show()"
   ]
  },
  {
   "cell_type": "code",
   "execution_count": 3,
   "metadata": {},
   "outputs": [
    {
     "name": "stdout",
     "output_type": "stream",
     "text": [
      "Trapezoid area: 0.683939720586\n"
     ]
    }
   ],
   "source": [
    "A = 0.5*(x1 - x0)*(y1 + y0)\n",
    "print(\"Trapezoid area:\",A)"
   ]
  },
  {
   "cell_type": "markdown",
   "metadata": {},
   "source": [
    "For a partitition $x_0 = a < x_1 < \\cdots < x_n = b$, the trapezoid rule formula simplifies to\n",
    "\n",
    "$$\n",
    "\\int_a^b f(x) \\, dx \\approx \\frac{1}{2} \\sum_{i = 1}^n \\left( f(x_i) + f(x_{i-1}) \\right) ( x_i - x_{i-1} )\n",
    "$$\n",
    "\n",
    "\n",
    "In particular, given an integer $N$, the trapezoid rule for $N$ subintervals of $[a,b]$ of equal length is\n",
    "\n",
    "$$\n",
    "T_N(f) = \\frac{\\Delta x}{2} \\sum_{i=1}^N (f(x_i) + f(x_{i-1}))\n",
    "$$\n",
    "\n",
    "where $\\Delta x = (b - a)/N$ is the length of the subintervals and $x_i = a + i \\Delta x$. Notice that the trapezoid is the average of the left and right Riemann sums\n",
    "\n",
    "$$\n",
    "T_N(f) = \\frac{\\Delta x}{2} \\sum_{i=1}^N (f(x_i) + f(x_{i-1})) = \\frac{1}{2} \\left( \\sum_{i=1}^N f(x_i) \\Delta x + \\sum_{i=1}^N f(x_{i-1}) \\Delta x \\right)\n",
    "$$"
   ]
  },
  {
   "cell_type": "markdown",
   "metadata": {},
   "source": [
    "For example, let's plot the trapezoids for $f(x)=\\frac{1}{1 + x^2}$ on $[0,5]$ with $N=10$."
   ]
  },
  {
   "cell_type": "code",
   "execution_count": 4,
   "metadata": {},
   "outputs": [
    {
     "data": {
      "image/png": "[encoded data removed]",
      "text/plain": [
       "<Figure size 432x288 with 1 Axes>"
      ]
     },
     "metadata": {},
     "output_type": "display_data"
    }
   ],
   "source": [
    "f = lambda x : 1/(1+x**2)\n",
    "a = 0; b = 5; N = 10\n",
    "n = 10 # Use n*N+1 points to plot the function smoothly\n",
    "\n",
    "x = np.linspace(a,b,N+1)\n",
    "y = f(x)\n",
    "\n",
    "X = np.linspace(a,b,n*N+1)\n",
    "Y = f(X)\n",
    "\n",
    "plt.plot(X,Y)\n",
    "\n",
    "for i in range(N):\n",
    "    xs = [x[i],x[i],x[i+1],x[i+1]]\n",
    "    ys = [0,f(x[i]),f(x[i+1]),0]\n",
    "    plt.fill(xs,ys,'b',edgecolor='b',alpha=0.2)\n",
    "\n",
    "plt.title('Trapezoid Rule, N = {}'.format(N))\n",
    "plt.show()"
   ]
  },
  {
   "cell_type": "markdown",
   "metadata": {},
   "source": [
    "Let's compute the sum of areas of the trapezoids:"
   ]
  },
  {
   "cell_type": "code",
   "execution_count": 5,
   "metadata": {},
   "outputs": [
    {
     "name": "stdout",
     "output_type": "stream",
     "text": [
      "1.37310408123\n"
     ]
    }
   ],
   "source": [
    "y = f(x)\n",
    "y_right = y[1:] # Right endpoints\n",
    "y_left = y[:-1] # Left endpoints\n",
    "dx = (b - a)/N\n",
    "T = (dx/2) * np.sum(y_right + y_left)\n",
    "print(T)"
   ]
  },
  {
   "cell_type": "markdown",
   "metadata": {},
   "source": [
    "We know the exact value\n",
    "\n",
    "$$\n",
    "\\int_0^5 \\frac{1}{1 + x^2} dx = \\arctan(5)\n",
    "$$\n",
    "\n",
    "and we can compare the trapezoid rule to the value"
   ]
  },
  {
   "cell_type": "code",
   "execution_count": 6,
   "metadata": {},
   "outputs": [
    {
     "name": "stdout",
     "output_type": "stream",
     "text": [
      "1.37340076695\n"
     ]
    }
   ],
   "source": [
    "I = np.arctan(5)\n",
    "print(I)"
   ]
  },
  {
   "cell_type": "code",
   "execution_count": 7,
   "metadata": {},
   "outputs": [
    {
     "name": "stdout",
     "output_type": "stream",
     "text": [
      "Trapezoid Rule Error: 0.000296685714906\n"
     ]
    }
   ],
   "source": [
    "print(\"Trapezoid Rule Error:\",np.abs(I - T))"
   ]
  },
  {
   "cell_type": "markdown",
   "metadata": {},
   "source": [
    "## Error Formula\n",
    "\n",
    "When computing integrals numerically, it is essential to know how good our approximations are. Notice in the theorem below that the error formula is inversely proportional to $N^2$. This means that the error descreases much faster with larger $N$ compared to Riemann sums.\n",
    "\n",
    "---\n",
    "\n",
    "**Theorem.** Let $T_N(f)$ denote the trapezoid rule\n",
    "\n",
    "$$\n",
    "T_N(f) = \\frac{\\Delta x}{2} \\sum_{i=1}^N (f(x_i) + f(x_{i-1}))\n",
    "$$\n",
    "\n",
    "where $\\Delta x = (b-a)/N$ and $x_i = a + i \\Delta x$. The error bound is\n",
    "\n",
    "$$\n",
    "E_N^T(f) = \\left| \\ \\int_a^b f(x) \\ dx - T_N(f) \\ \\right| \\leq \\frac{(b-a)^3}{12 N^2} K_2\n",
    "$$\n",
    "\n",
    "where $\\left| \\ f''(x) \\, \\right| \\leq K_2$ for all $x \\in [a,b]$.\n",
    "\n",
    "---"
   ]
  },
  {
   "cell_type": "markdown",
   "metadata": {},
   "source": [
    "## Implementation\n",
    "\n",
    "Let's write a function called `trapz` which takes input parameters $f$, $a$, $b$ and $N$ and returns the approximation $T_N(f)$. Furthermore, let's assign default value $N=50$."
   ]
  },
  {
   "cell_type": "code",
   "execution_count": 8,
   "metadata": {
    "collapsed": true
   },
   "outputs": [],
   "source": [
    "def trapz(f,a,b,N=50):\n",
    "    '''Approximate the integral of f(x) from a to b by the trapezoid rule.\n",
    "\n",
    "    The trapezoid rule approximates the integral \\int_a^b f(x) dx by the sum:\n",
    "    (dx/2) \\sum_{k=1}^N (f(x_k) + f(x_{k-1}))\n",
    "    where x_k = a + k*dx and dx = (b - a)/N.\n",
    "\n",
    "    Parameters\n",
    "    ----------\n",
    "    f : function\n",
    "        Vectorized function of a single variable\n",
    "    a , b : numbers\n",
    "        Interval of integration [a,b]\n",
    "    N : integer\n",
    "        Number of subintervals of [a,b]\n",
    "\n",
    "    Returns\n",
    "    -------\n",
    "    float\n",
    "        Approximation of the integral of f(x) from a to b using the\n",
    "        trapezoid rule with N subintervals of equal length.\n",
    "\n",
    "    Examples\n",
    "    --------\n",
    "    >>> trapz(np.sin,a=0,b=np.pi/2,N=1000)\n",
    "    0.99999979438323316\n",
    "    '''\n",
    "    x = np.linspace(a,b,N+1)\n",
    "    y = f(x)\n",
    "    y_right = y[1:] # Right endpoints\n",
    "    y_left = y[:-1] # Left endpoints\n",
    "    dx = (b - a)/N\n",
    "    T = (dx/2) * np.sum(y_right + y_left)\n",
    "    return T"
   ]
  },
  {
   "cell_type": "markdown",
   "metadata": {},
   "source": [
    "Let's test our function on an integral where we know the answer\n",
    "\n",
    "$$\n",
    "\\int_0^{\\pi/2} \\sin x \\ dx = 1\n",
    "$$"
   ]
  },
  {
   "cell_type": "code",
   "execution_count": 9,
   "metadata": {},
   "outputs": [
    {
     "data": {
      "text/plain": [
       "0.99999979438323316"
      ]
     },
     "execution_count": 9,
     "metadata": {},
     "output_type": "execute_result"
    }
   ],
   "source": [
    "trapz(np.sin,0,np.pi/2,1000)"
   ]
  },
  {
   "cell_type": "markdown",
   "metadata": {},
   "source": [
    "Let's test our function again:\n",
    "\n",
    "$$\n",
    "\\int_0^1 3 x^2 \\ dx = 1\n",
    "$$"
   ]
  },
  {
   "cell_type": "code",
   "execution_count": 10,
   "metadata": {},
   "outputs": [
    {
     "data": {
      "text/plain": [
       "1.0000000050000002"
      ]
     },
     "execution_count": 10,
     "metadata": {},
     "output_type": "execute_result"
    }
   ],
   "source": [
    "trapz(lambda x : 3*x**2,0,1,10000)"
   ]
  },
  {
   "cell_type": "markdown",
   "metadata": {},
   "source": [
    "And once more:\n",
    "\n",
    "$$\n",
    "\\int_0^1 x \\ dx = \\frac{1}{2}\n",
    "$$"
   ]
  },
  {
   "cell_type": "code",
   "execution_count": 11,
   "metadata": {},
   "outputs": [
    {
     "data": {
      "text/plain": [
       "0.5"
      ]
     },
     "execution_count": 11,
     "metadata": {},
     "output_type": "execute_result"
    }
   ],
   "source": [
    "trapz(lambda x : x,0,1,1)"
   ]
  },
  {
   "cell_type": "markdown",
   "metadata": {},
   "source": [
    "## scipy.integrate.trapz\n",
    "\n",
    "The [SciPy](https://scipy.org/) subpackage [scipy.integrate](https://docs.scipy.org/doc/scipy-0.18.1/reference/integrate.html) contains several functions for approximating definite integrals and numerically solving differential equations. Let's import the subpackage under the name `spi`."
   ]
  },
  {
   "cell_type": "code",
   "execution_count": 12,
   "metadata": {
    "collapsed": true
   },
   "outputs": [],
   "source": [
    "import scipy.integrate as spi"
   ]
  },
  {
   "cell_type": "markdown",
   "metadata": {},
   "source": [
    "The function `scipy.integrate.trapz` computes the approximation of a definite by the trapezoid rule. Consulting the documentation, we see that all we need to do it supply arrays of $x$ and $y$ values for the integrand and `scipy.integrate.trapz` returns the approximation of the integral using the trapezoid rule. The number of points we give to `scipy.integrate.trapz` is up to us but we have to remember that more points gives a better approximation but it takes more time to compute!"
   ]
  },
  {
   "cell_type": "markdown",
   "metadata": {},
   "source": [
    "## Examples\n",
    "\n",
    "### Approximate ln(2)\n",
    "\n",
    "Find a value $N$ which guarantees that the trapezoid rule approximation $T_N(f)$ of the integral\n",
    "\n",
    "$$\n",
    "\\int_1^2 \\frac{1}{x} \\, dx = \\ln(2)\n",
    "$$\n",
    "\n",
    "satisfies $E_N^T(f) \\leq 10^{-8}$."
   ]
  },
  {
   "cell_type": "markdown",
   "metadata": {},
   "source": [
    "For $f(x) = \\frac{1}{x}$, we compute $f''(x) = \\frac{2}{x^3} \\leq 2$ for all $x \\in [1,2]$ therefore the error formula implies\n",
    "\n",
    "$$\n",
    "\\left| \\int_1^2 \\frac{1}{x} \\, dx - T_N(f) \\right| \\leq \\frac{2}{12N^2}\n",
    "$$\n",
    "\n",
    "Then $E_N^T \\leq 10^{-8}$ is guaranteed if $\\frac{1}{6N^2} \\leq 10^{-8}$ which implies\n",
    "\n",
    "$$\n",
    "\\frac{10^4}{\\sqrt{6}} \\leq N\n",
    "$$"
   ]
  },
  {
   "cell_type": "code",
   "execution_count": 13,
   "metadata": {},
   "outputs": [
    {
     "data": {
      "text/plain": [
       "4082.4829046386303"
      ]
     },
     "execution_count": 13,
     "metadata": {},
     "output_type": "execute_result"
    }
   ],
   "source": [
    "10**4/np.sqrt(6)"
   ]
  },
  {
   "cell_type": "markdown",
   "metadata": {},
   "source": [
    "We need 4083 subintervals to guarantee $E_N^T(f) \\leq 10^{-8}$. Compute the approximation using our own implementation of the trapezoid rule:"
   ]
  },
  {
   "cell_type": "code",
   "execution_count": 14,
   "metadata": {},
   "outputs": [
    {
     "name": "stdout",
     "output_type": "stream",
     "text": [
      "0.693147184309\n"
     ]
    }
   ],
   "source": [
    "approximation = trapz(lambda x : 1/x,1,2,4083)\n",
    "print(approximation)"
   ]
  },
  {
   "cell_type": "markdown",
   "metadata": {},
   "source": [
    "We could also use `scipy.integrate.trapz` to get the exact same result:"
   ]
  },
  {
   "cell_type": "code",
   "execution_count": 15,
   "metadata": {},
   "outputs": [
    {
     "name": "stdout",
     "output_type": "stream",
     "text": [
      "0.693147184309\n"
     ]
    }
   ],
   "source": [
    "N = 4083\n",
    "x = np.linspace(1,2,N+1)\n",
    "y = 1/x\n",
    "approximation = spi.trapz(y,x)\n",
    "print(approximation)"
   ]
  },
  {
   "cell_type": "markdown",
   "metadata": {},
   "source": [
    "Let's verify that this is within $10^{-6}$"
   ]
  },
  {
   "cell_type": "code",
   "execution_count": 16,
   "metadata": {},
   "outputs": [
    {
     "data": {
      "text/plain": [
       "True"
      ]
     },
     "execution_count": 16,
     "metadata": {},
     "output_type": "execute_result"
    }
   ],
   "source": [
    "np.abs(approximation - np.log(2)) < 10**(-8)"
   ]
  },
  {
   "cell_type": "markdown",
   "metadata": {},
   "source": [
    "Success! However, a natural question arises: what is the actual smallest $N$ such that the trapezoid rule gives the estimate of $\\ln (2)$ to within $10^{-8}$?"
   ]
  },
  {
   "cell_type": "code",
   "execution_count": 17,
   "metadata": {},
   "outputs": [
    {
     "name": "stdout",
     "output_type": "stream",
     "text": [
      "Accuracy achieved at N = 791\n"
     ]
    }
   ],
   "source": [
    "for n in range(1,4083):\n",
    "    approx = trapz(lambda x : 1/x,1,2,n)\n",
    "    if np.abs(approx - np.log(2)) < 10e-8:\n",
    "        print(\"Accuracy achieved at N =\",n)\n",
    "        break"
   ]
  },
  {
   "cell_type": "markdown",
   "metadata": {},
   "source": [
    "### Fresnel Integral\n",
    "\n",
    "[Fresnel integrals](https://en.wikipedia.org/wiki/Fresnel_integral) are examples of [nonelementary integrals](https://en.wikipedia.org/wiki/Nonelementary_integral): antiderivatives which cannot be written in terms of [elementary functions](https://en.wikipedia.org/wiki/Elementary_function). There are two types of Fresnel integrals:\n",
    "\n",
    "$$\n",
    "S(t) = \\int_0^t \\sin(x^2) dx  \\ \\ \\text{and} \\ \\ C(t) = \\int_0^t \\cos(x^2) dx\n",
    "$$\n",
    "\n",
    "Use the trapezoid rule to approximate the Fresnel integral\n",
    "\n",
    "$$\n",
    "S(1) = \\int_0^1 \\sin(x^2) dx\n",
    "$$\n",
    "\n",
    "such that the error is less than $10^{-5}$.\n",
    "\n",
    "Compute the derivatives of the integrand\n",
    "\n",
    "$$\n",
    "f(x) = \\sin(x^2) \\ \\ , \\ \\ f'(x) = 2x\\cos(x^2)\n",
    "$$\n",
    "\n",
    "$$\n",
    "f''(x) = 2\\cos(x^2) - 4x^2\\sin(x^2) \\ \\ , \\ \\ f'''(x) = -12x\\sin(x^2) - 8x^3\\cos(x^2)\n",
    "$$\n",
    "\n",
    "Since $f'''(x) \\leq 0$ for $x \\in [0,1]$, we see that $f''(x)$ is decreasing on $[0,1]$. Values of $f''(x)$ at the endpoints of the interval are"
   ]
  },
  {
   "cell_type": "code",
   "execution_count": 18,
   "metadata": {},
   "outputs": [
    {
     "data": {
      "text/plain": [
       "2.0"
      ]
     },
     "execution_count": 18,
     "metadata": {},
     "output_type": "execute_result"
    }
   ],
   "source": [
    "x = 0\n",
    "2*np.cos(x**2) - 4*x**2*np.sin(x**2)"
   ]
  },
  {
   "cell_type": "code",
   "execution_count": 19,
   "metadata": {},
   "outputs": [
    {
     "data": {
      "text/plain": [
       "-2.2852793274953065"
      ]
     },
     "execution_count": 19,
     "metadata": {},
     "output_type": "execute_result"
    }
   ],
   "source": [
    "x = 1\n",
    "2*np.cos(x**2) - 4*x**2*np.sin(x**2)"
   ]
  },
  {
   "cell_type": "markdown",
   "metadata": {},
   "source": [
    "Therefore $\\left| \\, f''(x) \\, \\right| \\leq 2.2852793274953065$ for $x \\in [0,1]$. Use the error bound formula to find a good choice for $N$\n",
    "\n",
    "$$\n",
    "\\frac{(b-a)^3}{12 N^2} K_2 \\leq 10^{-5} \\Rightarrow \\sqrt{\\frac{10^5(2.2852793274953065)}{12}} \\leq N\n",
    "$$"
   ]
  },
  {
   "cell_type": "code",
   "execution_count": 20,
   "metadata": {},
   "outputs": [
    {
     "data": {
      "text/plain": [
       "137.99997969490511"
      ]
     },
     "execution_count": 20,
     "metadata": {},
     "output_type": "execute_result"
    }
   ],
   "source": [
    "np.sqrt(10**5 * 2.2852793274953065 / 12)"
   ]
  },
  {
   "cell_type": "markdown",
   "metadata": {},
   "source": [
    "Let's compute the integral using the trapezoid rule with $N=138$ subintervals"
   ]
  },
  {
   "cell_type": "code",
   "execution_count": 21,
   "metadata": {},
   "outputs": [
    {
     "name": "stdout",
     "output_type": "stream",
     "text": [
      "0.310273030322\n"
     ]
    }
   ],
   "source": [
    "x = np.linspace(0,1,139)\n",
    "y = np.sin(x**2)\n",
    "I = spi.trapz(y,x)\n",
    "print(I)"
   ]
  },
  {
   "cell_type": "markdown",
   "metadata": {},
   "source": [
    "Therefore the Fresnel integral $S(1)$ is approximately\n",
    "\n",
    "$$\n",
    "S(1) = \\int_0^1 \\sin(x^2) \\, dx \\approx 0.310273030322\n",
    "$$\n",
    "\n",
    "with error less than $10^{-5}$."
   ]
  },
  {
   "cell_type": "markdown",
   "metadata": {},
   "source": [
    "### Logarithmic Integral\n",
    "\n",
    "The [Eulerian logarithmic integral](https://en.wikipedia.org/wiki/Logarithmic_integral_function) is another nonelementary integral\n",
    "\n",
    "$$\n",
    "\\mathrm{Li}(t) = \\int_2^t \\frac{1}{\\ln x} dx\n",
    "$$\n",
    "\n",
    "Let's compute Li(10) such that the error is less than 0.01. Compute derivatives of the integrand\n",
    "\n",
    "$$\n",
    "f(x) = \\frac{1}{\\ln x} \\ \\ , \\ \\   f'(x) = -\\frac{1}{x(\\ln x)^2} \\ \\ , \\ \\  f''(x) = \\frac{\\ln x + 2 }{x^2\\ln x}\n",
    "$$\n",
    "\n",
    "Plot $f''(x)$ on the interval $[2,10]$"
   ]
  },
  {
   "cell_type": "code",
   "execution_count": 22,
   "metadata": {},
   "outputs": [
    {
     "data": {
      "image/png": "[encoded data removed]",
      "text/plain": [
       "<Figure size 432x288 with 1 Axes>"
      ]
     },
     "metadata": {},
     "output_type": "display_data"
    }
   ],
   "source": [
    "x = np.linspace(2,10,100)\n",
    "y = (np.log(x) + 2) / (x**2 * np.log(x))\n",
    "plt.plot(x,y)\n",
    "plt.show()"
   ]
  },
  {
   "cell_type": "markdown",
   "metadata": {},
   "source": [
    "Clearly $f''(x)$ is decreasing and is approaching 0 therefore\n",
    "\n",
    "$$\n",
    "\\left| \\, f''(x) \\, \\right| \\leq \\frac{\\ln (2) + 2}{4 \\ln (2)}\n",
    "$$\n",
    "\n",
    "for $x \\in [2,\\infty)$."
   ]
  },
  {
   "cell_type": "code",
   "execution_count": 23,
   "metadata": {},
   "outputs": [
    {
     "data": {
      "text/plain": [
       "0.9713475204444818"
      ]
     },
     "execution_count": 23,
     "metadata": {},
     "output_type": "execute_result"
    }
   ],
   "source": [
    "(np.log(2) + 2)/(4*np.log(2))"
   ]
  },
  {
   "cell_type": "markdown",
   "metadata": {},
   "source": [
    "Use the error formula:\n",
    "\n",
    "$$\n",
    "\\frac{(b-a)^3}{12 N^2} K_2 \\leq 0.01 \\Rightarrow \\frac{8^3}{12 N^2} 0.9713475204444818 \\leq 0.01 \\Rightarrow \\sqrt{ \\frac{8^3}{12(0.01)} 0.9713475204444818} \\leq N\n",
    "$$"
   ]
  },
  {
   "cell_type": "code",
   "execution_count": 24,
   "metadata": {},
   "outputs": [
    {
     "data": {
      "text/plain": [
       "64.377139476912063"
      ]
     },
     "execution_count": 24,
     "metadata": {},
     "output_type": "execute_result"
    }
   ],
   "source": [
    "np.sqrt(8**3 * 0.9713475204444818 / 0.12)"
   ]
  },
  {
   "cell_type": "markdown",
   "metadata": {},
   "source": [
    "Compute the trapzoid rule with $N=65$"
   ]
  },
  {
   "cell_type": "code",
   "execution_count": 25,
   "metadata": {},
   "outputs": [
    {
     "name": "stdout",
     "output_type": "stream",
     "text": [
      "5.12172369518\n"
     ]
    }
   ],
   "source": [
    "x = np.linspace(2,10,66)\n",
    "y = 1/np.log(x)\n",
    "I = spi.trapz(y,x)\n",
    "print(I)"
   ]
  },
  {
   "cell_type": "markdown",
   "metadata": {},
   "source": [
    "Therefore the Eulerian logarithmic integral is\n",
    "\n",
    "$$\n",
    "\\mathrm{Li}(10) = \\int_2^{10} \\frac{1}{\\ln x} dx \\approx 5.12172369518\n",
    "$$\n",
    "\n",
    "such that the error is less than 0.01."
   ]
  },
  {
   "cell_type": "markdown",
   "metadata": {},
   "source": [
    "## Exercises\n",
    "\n",
    "*Under construction*"
   ]
  }
 ],
 "metadata": {
  "kernelspec": {
   "display_name": "Python 3",
   "language": "python",
   "name": "python3"
  },
  "language_info": {
   "codemirror_mode": {
    "name": "ipython",
    "version": 3
   },
   "file_extension": ".py",
   "mimetype": "text/x-python",
   "name": "python",
   "nbconvert_exporter": "python",
   "pygments_lexer": "ipython3",
   "version": "3.7.3"
  }
 },
 "nbformat": 4,
 "nbformat_minor": 2
}
